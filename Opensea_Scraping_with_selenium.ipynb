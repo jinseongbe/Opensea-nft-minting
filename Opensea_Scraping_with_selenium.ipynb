{
 "cells": [
  {
   "cell_type": "code",
   "execution_count": 3,
   "id": "available-development",
   "metadata": {},
   "outputs": [],
   "source": [
    "import pandas as pd\n",
    "import os\n",
    "from selenium import webdriver\n",
    "from time import sleep, time\n",
    "import random\n",
    "from selenium.webdriver.common.keys import Keys\n",
    "import urllib.request"
   ]
  },
  {
   "cell_type": "code",
   "execution_count": 4,
   "id": "fifteen-result",
   "metadata": {},
   "outputs": [
    {
     "name": "stderr",
     "output_type": "stream",
     "text": [
      "/var/folders/y4/3sbgvw1j7wx0j859bfk62h0h0000gn/T/ipykernel_19067/3460490098.py:2: DeprecationWarning: executable_path has been deprecated, please pass in a Service object\n",
      "  driver = webdriver.Chrome('./chromedriver')\n"
     ]
    }
   ],
   "source": [
    "os.chdir(\"/Users/jinsungpark/Desktop/jupyter\")\n",
    "driver = webdriver.Chrome('./chromedriver')\n",
    "driver.get(\"https://opensea.io/collection/cryptopunks\")"
   ]
  },
  {
   "cell_type": "code",
   "execution_count": null,
   "id": "frozen-texture",
   "metadata": {},
   "outputs": [],
   "source": [
    "temp_array = []\n",
    "for i in range(1,10):\n",
    "    temp_array.append(os.listdir('/Users/jinsungpark/Desktop/crypto/{}'.format(i)))\n",
    "\n",
    "for firstNum in range(2,10):    \n",
    "    search = driver.find_element_by_xpath(\"//*[@id=\\\"main\\\"]/div/div/div[3]/div/div/div/div[3]/div[1]/div[1]/input\")\n",
    "    search.send_keys(\"#{}\".format(firstNum))\n",
    "    sleep(random.uniform(0.5, 1.5))\n",
    "    search.send_keys(Keys.ENTER)\n",
    "    sleep(random.uniform(0.5, 1.5))\n",
    "    \n",
    "    val = 700\n",
    "    nxt = 594\n",
    "    array = []\n",
    "    os.chdir(\"/Users/jinsungpark/Desktop/crypto/{}\".format(firstNum))\n",
    "    for i in range(800):\n",
    "        txt = 'window.scrollTo(0, {})'.format(val)\n",
    "        driver.execute_script(txt)    \n",
    "        sleep(random.uniform(1.5, 1.8))\n",
    "\n",
    "        ele = driver.find_elements_by_css_selector(\"#main > div > div > div.Blockreact__Block-sc-1xf18x6-0.dBFmez > div > div > div > div.AssetSearchView--results.collection--results > div.Blockreact__Block-sc-1xf18x6-0.dBFmez.AssetsSearchView--assets > div.fresnel-container.fresnel-greaterThanOrEqual-sm > div > div > div > div > article > a > div > div > div > div > img\")\n",
    "        for data in ele:\n",
    "            fileName = data.get_attribute('alt')+\".jpg\"\n",
    "            if fileName in temp_array[firstNum-1]:\n",
    "                continue\n",
    "            else:\n",
    "                array.append(data.get_attribute('alt'))\n",
    "                print(\"folder number {}\".format(firstNum), \"{}/1111\".format(len(os.listdir('/Users/jinsungpark/Desktop/crypto/{}'.format(firstNum)))), data.get_attribute('alt'), i)\n",
    "                urllib.request.urlretrieve(data.get_attribute('src'), \"{}.jpg\".format(data.get_attribute('alt')))\n",
    "        val += nxt\n",
    "        \n",
    "    driver.execute_script('window.scrollTo(0, 700)')   \n",
    "    search.send_keys(Keys.BACKSPACE)\n",
    "    search.send_keys(Keys.BACKSPACE)\n",
    "    sleep(random.uniform(0.5, 1.5))"
   ]
  },
  {
   "cell_type": "code",
   "execution_count": null,
   "id": "seven-onion",
   "metadata": {},
   "outputs": [],
   "source": []
  },
  {
   "cell_type": "code",
   "execution_count": null,
   "id": "accurate-template",
   "metadata": {},
   "outputs": [],
   "source": []
  },
  {
   "cell_type": "code",
   "execution_count": null,
   "id": "protected-glossary",
   "metadata": {},
   "outputs": [],
   "source": []
  },
  {
   "cell_type": "code",
   "execution_count": null,
   "id": "occupied-performer",
   "metadata": {},
   "outputs": [],
   "source": []
  },
  {
   "cell_type": "code",
   "execution_count": null,
   "id": "alpine-assignment",
   "metadata": {},
   "outputs": [],
   "source": []
  },
  {
   "cell_type": "code",
   "execution_count": null,
   "id": "nasty-hamburg",
   "metadata": {},
   "outputs": [],
   "source": [
    "# options = webdriver.ChromeOptions()\n",
    "# options.add_argument('window-size=839,931')\n",
    "# driver = webdriver.Chrome('./chromedriver', options=options)"
   ]
  },
  {
   "cell_type": "code",
   "execution_count": null,
   "id": "nervous-family",
   "metadata": {},
   "outputs": [],
   "source": [
    "images = driver.find_elements_by_css_selector(\".rg_i.Q4LuWd\") \n",
    "count = 1 \n",
    "for image in images:\n",
    "    try: \n",
    "        image.click() time.sleep(2) \n",
    "        imgUrl = driver.find_element_by_xpath(\"/html/body/div[2]/c-wiz/div[3]/div[2]/div[3]/div/div/div[3]/div[2]/c-wiz/div[1]/div[1]/div/div[2]/a/img\").get_attribute('src') \n",
    "        urllib.request.urlretrieve(imgUrl, \"박보영\" + str(count) + \".jpg\")\n",
    "        count = count + 1 \n",
    "    except: \n",
    "        pass\n",
    "\n"
   ]
  },
  {
   "cell_type": "code",
   "execution_count": null,
   "id": "popular-mongolia",
   "metadata": {},
   "outputs": [],
   "source": [
    "import os"
   ]
  },
  {
   "cell_type": "code",
   "execution_count": null,
   "id": "invisible-yield",
   "metadata": {},
   "outputs": [],
   "source": [
    "for i in range(1,10):\n",
    "    lst = os.listdir('/Users/jinsungpark/Desktop/crypto/{}'.format(i))\n",
    "    print(len(lst))"
   ]
  },
  {
   "cell_type": "code",
   "execution_count": null,
   "id": "brown-scope",
   "metadata": {},
   "outputs": [],
   "source": []
  },
  {
   "cell_type": "code",
   "execution_count": null,
   "id": "latter-spouse",
   "metadata": {},
   "outputs": [],
   "source": []
  },
  {
   "cell_type": "code",
   "execution_count": null,
   "id": "interested-theory",
   "metadata": {},
   "outputs": [],
   "source": []
  },
  {
   "cell_type": "code",
   "execution_count": null,
   "id": "assured-iraqi",
   "metadata": {},
   "outputs": [],
   "source": []
  },
  {
   "cell_type": "code",
   "execution_count": null,
   "id": "adjacent-yellow",
   "metadata": {},
   "outputs": [],
   "source": []
  },
  {
   "cell_type": "code",
   "execution_count": null,
   "id": "affecting-burner",
   "metadata": {},
   "outputs": [],
   "source": [
    "440 + 126 + 25 = 566"
   ]
  },
  {
   "cell_type": "code",
   "execution_count": null,
   "id": "looking-whole",
   "metadata": {},
   "outputs": [],
   "source": [
    "val = 200\n",
    "\n",
    "for i in range(1, 10):\n",
    "    txt = 'window.scrollTo(0, {})'.format(val*i)\n",
    "    print(i, txt)\n",
    "    sleep(1.2)\n",
    "    driver.execute_script(txt)    \n",
    "\n"
   ]
  },
  {
   "cell_type": "code",
   "execution_count": null,
   "id": "political-shopping",
   "metadata": {},
   "outputs": [],
   "source": []
  },
  {
   "cell_type": "code",
   "execution_count": null,
   "id": "corresponding-rachel",
   "metadata": {},
   "outputs": [],
   "source": [
    "driver.quit()"
   ]
  },
  {
   "cell_type": "code",
   "execution_count": null,
   "id": "liked-ethics",
   "metadata": {},
   "outputs": [],
   "source": []
  },
  {
   "cell_type": "code",
   "execution_count": null,
   "id": "driving-shadow",
   "metadata": {},
   "outputs": [],
   "source": []
  },
  {
   "cell_type": "code",
   "execution_count": null,
   "id": "suited-trademark",
   "metadata": {},
   "outputs": [],
   "source": [
    "driver.back() #뒤로가기\n",
    "driver.forward() #앞으로가기"
   ]
  },
  {
   "cell_type": "code",
   "execution_count": null,
   "id": "sophisticated-patient",
   "metadata": {},
   "outputs": [],
   "source": [
    "driver.window_handles[0] #브라우저 탭 객체를 리스트로 반환. [0] 은 인덱싱. 첫번재 탭을 의미\n",
    "\n",
    "driver.switch_to.window(driver.window_handles[0]) #첫번째 탭으로 이동\n",
    "driver.switch_to.window(driver.window_handles[1]) #두번째 탭으로 이동\n",
    "driver.switch_to.window(driver.window_handles[2]) #세번째 탭으로 이동"
   ]
  },
  {
   "cell_type": "code",
   "execution_count": null,
   "id": "modern-underwear",
   "metadata": {},
   "outputs": [],
   "source": [
    "driver.switch_to.window(driver.window_handles[0]) #닫을 탭으로 이동 후\n",
    "\n",
    "driver.close()"
   ]
  },
  {
   "cell_type": "code",
   "execution_count": null,
   "id": "international-questionnaire",
   "metadata": {},
   "outputs": [],
   "source": [
    "driver.find_element_by_id('ke_kbd_btn').click()\n",
    "driver.find_element_by_id('ke_awd2_btn').send_keys('텍스트 입력')\n",
    "driver.find_element_by_id('ke_awd2_btn').clear()"
   ]
  },
  {
   "cell_type": "code",
   "execution_count": null,
   "id": "equipped-restoration",
   "metadata": {},
   "outputs": [],
   "source": [
    "from selenium.webdriver.common.keys import Keys\n",
    "\n",
    "# 컨트롤+V\n",
    "driver.find_element_by_id('ke_kbd_btn').send_keys(Keys.CONTROL + 'v')\n",
    "\n",
    "# 다른 방법\n",
    "from selenium.webdriver import ActionChains\n",
    "\n",
    "ActionChains(driver).key_down(Keys.CONTROL).send_keys('V').key_up(Keys.CONTROL).perform() \n",
    "#위에서 driver 대신 엘리먼트를 입력해도 좋음. "
   ]
  },
  {
   "cell_type": "code",
   "execution_count": null,
   "id": "refined-richmond",
   "metadata": {},
   "outputs": [],
   "source": []
  },
  {
   "cell_type": "code",
   "execution_count": null,
   "id": "successful-carry",
   "metadata": {},
   "outputs": [],
   "source": []
  },
  {
   "cell_type": "code",
   "execution_count": 5,
   "id": "indian-tourism",
   "metadata": {},
   "outputs": [
    {
     "name": "stdout",
     "output_type": "stream",
     "text": [
      "1112\n",
      "1111\n",
      "1111\n",
      "1111\n",
      "1111\n",
      "1112\n",
      "1111\n",
      "1113\n",
      "1112\n"
     ]
    }
   ],
   "source": [
    "done_lst = []\n",
    "\n",
    "for i in range(1,10):\n",
    "    lst = os.listdir('/Users/jinsungpark/Desktop/crypto/{}'.format(i))\n",
    "    print(len(lst))\n",
    "    for j in range(0, len(lst)):\n",
    "        done_lst.append(lst[j])"
   ]
  },
  {
   "cell_type": "code",
   "execution_count": 6,
   "id": "fab2671a",
   "metadata": {},
   "outputs": [
    {
     "name": "stdout",
     "output_type": "stream",
     "text": [
      "9999\n"
     ]
    }
   ],
   "source": [
    "base_lst = []\n",
    "for i in range(1, 10000):\n",
    "    base_lst.append(\"CryptoPunk #{}.jpg\".format(i))\n",
    "\n",
    "print(len(base_lst))"
   ]
  },
  {
   "cell_type": "code",
   "execution_count": 7,
   "id": "e820bcf5",
   "metadata": {},
   "outputs": [
    {
     "name": "stdout",
     "output_type": "stream",
     "text": [
      "-5 1\n"
     ]
    }
   ],
   "source": [
    "fail_lst = []\n",
    "for k in range(0, len(base_lst)):\n",
    "    if base_lst[k] in done_lst:\n",
    "        continue\n",
    "    else:\n",
    "        fail_lst.append(base_lst[k])\n",
    "\n",
    "print((len(base_lst)-len(done_lst)),len(fail_lst))"
   ]
  },
  {
   "cell_type": "code",
   "execution_count": 8,
   "id": "f0db789b",
   "metadata": {},
   "outputs": [
    {
     "data": {
      "text/plain": [
       "['CryptoPunk #7755.jpg']"
      ]
     },
     "execution_count": 8,
     "metadata": {},
     "output_type": "execute_result"
    }
   ],
   "source": [
    "fail_lst"
   ]
  },
  {
   "cell_type": "code",
   "execution_count": 9,
   "id": "991dafdd",
   "metadata": {},
   "outputs": [
    {
     "data": {
      "text/plain": [
       "['#7755']"
      ]
     },
     "execution_count": 9,
     "metadata": {},
     "output_type": "execute_result"
    }
   ],
   "source": [
    "fail_lst_edit = []\n",
    "for i in range(0, len(fail_lst)):\n",
    "#     if i <= 11:\n",
    "#         print()\n",
    "#         fail_lst_edit.append(fail_lst[i][11:15])\n",
    "#     else:\n",
    "#         fail_lst_edit.append(fail_lst[i][11:16])\n",
    "    fail_lst_edit.append(fail_lst[i][11:16])\n",
    "fail_lst_edit"
   ]
  },
  {
   "cell_type": "code",
   "execution_count": 10,
   "id": "3a7fe1bd",
   "metadata": {},
   "outputs": [
    {
     "name": "stderr",
     "output_type": "stream",
     "text": [
      "/var/folders/y4/3sbgvw1j7wx0j859bfk62h0h0000gn/T/ipykernel_19067/1069050716.py:6: DeprecationWarning: find_element_by_* commands are deprecated. Please use find_element() instead\n",
      "  search = driver.find_element_by_xpath(\"//*[@id=\\\"main\\\"]/div/div/div[3]/div/div/div/div[3]/div[1]/div[1]/input\")\n",
      "/var/folders/y4/3sbgvw1j7wx0j859bfk62h0h0000gn/T/ipykernel_19067/1069050716.py:46: DeprecationWarning: find_elements_by_* commands are deprecated. Please use find_elements() instead\n",
      "  ele = driver.find_elements_by_css_selector(\"#main > div > div > div.Blockreact__Block-sc-1xf18x6-0.dBFmez > div > div > div > div.AssetSearchView--results.collection--results > div.Blockreact__Block-sc-1xf18x6-0.dBFmez.AssetsSearchView--assets > div.fresnel-container.fresnel-greaterThanOrEqual-sm > div > div > div > div > article > a > div > div > div > div > img\")\n"
     ]
    }
   ],
   "source": [
    "temp_array = []\n",
    "for i in range(1,10):\n",
    "    temp_array.append(os.listdir('/Users/jinsungpark/Desktop/crypto/{}'.format(i)))\n",
    "\n",
    "for i in range(0,len(fail_lst_edit)):    \n",
    "    search = driver.find_element_by_xpath(\"//*[@id=\\\"main\\\"]/div/div/div[3]/div/div/div/div[3]/div[1]/div[1]/input\")\n",
    "    search.send_keys(fail_lst_edit[i])\n",
    "    sleep(random.uniform(0.5, 1.5))\n",
    "    search.send_keys(Keys.ENTER)\n",
    "    sleep(random.uniform(0.5, 1.5))\n",
    "    \n",
    "    val = 700\n",
    "    nxt = 594\n",
    "    array = []\n",
    "    os.chdir(\"/Users/jinsungpark/Desktop/crypto/{}\".format(fail_lst_edit[i][1]))\n",
    "    \n",
    "    if i <= -1 :\n",
    "        for j in range(11):\n",
    "            txt = 'window.scrollTo(0, {})'.format(val)\n",
    "            driver.execute_script(txt)    \n",
    "            sleep(random.uniform(1.5, 1.8))\n",
    "\n",
    "            ele = driver.find_elements_by_css_selector(\"#main > div > div > div.Blockreact__Block-sc-1xf18x6-0.dBFmez > div > div > div > div.AssetSearchView--results.collection--results > div.Blockreact__Block-sc-1xf18x6-0.dBFmez.AssetsSearchView--assets > div.fresnel-container.fresnel-greaterThanOrEqual-sm > div > div > div > div > article > a > div > div > div > div > img\")\n",
    "            for data in ele:\n",
    "                fileName = data.get_attribute('alt')+\".jpg\"\n",
    "                if fileName in temp_array[int(fail_lst_edit[i][1])-1]:\n",
    "                    continue\n",
    "                else:\n",
    "                    array.append(data.get_attribute('alt'))\n",
    "                    print(\"folder number {}\".format(fail_lst_edit[i][1]), \"{}/1111\".format(len(os.listdir('/Users/jinsungpark/Desktop/crypto/{}'.format(fail_lst_edit[i][1])))), data.get_attribute('alt'), j)\n",
    "                    urllib.request.urlretrieve(data.get_attribute('src'), \"{}.jpg\".format(data.get_attribute('alt')))\n",
    "            val += nxt\n",
    "\n",
    "        driver.execute_script('window.scrollTo(0, 700)')   \n",
    "        search.send_keys(Keys.BACKSPACE)\n",
    "        search.send_keys(Keys.BACKSPACE)\n",
    "        search.send_keys(Keys.BACKSPACE)\n",
    "        search.send_keys(Keys.BACKSPACE)\n",
    "        sleep(random.uniform(0.5, 1.5))\n",
    "    else:\n",
    "        for j in range(2):\n",
    "            txt = 'window.scrollTo(0, {})'.format(val)\n",
    "            driver.execute_script(txt)    \n",
    "            sleep(random.uniform(1.5, 1.8))\n",
    "\n",
    "            ele = driver.find_elements_by_css_selector(\"#main > div > div > div.Blockreact__Block-sc-1xf18x6-0.dBFmez > div > div > div > div.AssetSearchView--results.collection--results > div.Blockreact__Block-sc-1xf18x6-0.dBFmez.AssetsSearchView--assets > div.fresnel-container.fresnel-greaterThanOrEqual-sm > div > div > div > div > article > a > div > div > div > div > img\")\n",
    "            for data in ele:\n",
    "                fileName = data.get_attribute('alt')+\".jpg\"\n",
    "                if fileName in temp_array[int(fail_lst_edit[i][1])-1]:\n",
    "                    continue\n",
    "                else:\n",
    "                    array.append(data.get_attribute('alt'))\n",
    "                    print(\"folder number {}\".format(fail_lst_edit[i][1]), \"{}/1111\".format(len(os.listdir('/Users/jinsungpark/Desktop/crypto/{}'.format(fail_lst_edit[i][1])))), data.get_attribute('alt'), j)\n",
    "                    urllib.request.urlretrieve(data.get_attribute('src'), \"{}.jpg\".format(data.get_attribute('alt')))\n",
    "            val += nxt\n",
    "\n",
    "        driver.execute_script('window.scrollTo(0, 700)')   \n",
    "        search.send_keys(Keys.BACKSPACE)\n",
    "        search.send_keys(Keys.BACKSPACE)\n",
    "        search.send_keys(Keys.BACKSPACE)\n",
    "        search.send_keys(Keys.BACKSPACE)\n",
    "        search.send_keys(Keys.BACKSPACE)\n",
    "        sleep(random.uniform(0.5, 1.5))\n",
    "        "
   ]
  },
  {
   "cell_type": "code",
   "execution_count": null,
   "id": "796e35f6",
   "metadata": {},
   "outputs": [],
   "source": []
  },
  {
   "cell_type": "code",
   "execution_count": null,
   "id": "adequate-salon",
   "metadata": {},
   "outputs": [],
   "source": []
  }
 ],
 "metadata": {
  "kernelspec": {
   "display_name": "Python 3 (ipykernel)",
   "language": "python",
   "name": "python3"
  },
  "language_info": {
   "codemirror_mode": {
    "name": "ipython",
    "version": 3
   },
   "file_extension": ".py",
   "mimetype": "text/x-python",
   "name": "python",
   "nbconvert_exporter": "python",
   "pygments_lexer": "ipython3",
   "version": "3.9.7"
  }
 },
 "nbformat": 4,
 "nbformat_minor": 5
}
