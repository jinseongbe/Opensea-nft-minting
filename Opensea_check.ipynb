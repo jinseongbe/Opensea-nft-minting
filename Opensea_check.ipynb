{
 "cells": [
  {
   "cell_type": "code",
   "execution_count": 1,
   "id": "broadband-intention",
   "metadata": {},
   "outputs": [],
   "source": [
    "import os"
   ]
  },
  {
   "cell_type": "code",
   "execution_count": 2,
   "id": "ecological-maximum",
   "metadata": {},
   "outputs": [
    {
     "name": "stdout",
     "output_type": "stream",
     "text": [
      "1112\n",
      "1111\n",
      "1111\n",
      "1111\n",
      "1111\n",
      "1112\n",
      "1112\n",
      "1113\n",
      "1112\n"
     ]
    }
   ],
   "source": [
    "all_lst = []\n",
    "\n",
    "for i in range(1,10):\n",
    "    lst = os.listdir('/Users/jinsungpark/Desktop/crypto/{}'.format(i))\n",
    "    print(len(lst))\n",
    "    for j in range(0, len(lst)):\n",
    "        all_lst.append(lst[j])"
   ]
  },
  {
   "cell_type": "code",
   "execution_count": 53,
   "id": "raised-poultry",
   "metadata": {},
   "outputs": [
    {
     "name": "stdout",
     "output_type": "stream",
     "text": [
      "10004\n",
      "CryptoPunk #1090.jpg\n"
     ]
    }
   ],
   "source": [
    "print(len(all_lst))\n",
    "print(all_lst[0])"
   ]
  },
  {
   "cell_type": "code",
   "execution_count": 54,
   "id": "periodic-avenue",
   "metadata": {},
   "outputs": [
    {
     "name": "stdout",
     "output_type": "stream",
     "text": [
      "9999\n"
     ]
    }
   ],
   "source": [
    "base_lst = []\n",
    "for i in range(1, 10000):\n",
    "    base_lst.append(\"CryptoPunk #{}.jpg\".format(i))\n",
    "\n",
    "print(len(base_lst))"
   ]
  },
  {
   "cell_type": "code",
   "execution_count": 55,
   "id": "terminal-angle",
   "metadata": {},
   "outputs": [
    {
     "name": "stdout",
     "output_type": "stream",
     "text": [
      "-5 1\n"
     ]
    }
   ],
   "source": [
    "fail_lst = []\n",
    "for k in range(0, len(base_lst)):\n",
    "    if base_lst[k] in all_lst:\n",
    "        continue\n",
    "    else:\n",
    "        fail_lst.append(base_lst[k])\n",
    "\n",
    "print((len(base_lst)-len(all_lst)),len(fail_lst))"
   ]
  },
  {
   "cell_type": "code",
   "execution_count": 56,
   "id": "searching-closing",
   "metadata": {},
   "outputs": [
    {
     "data": {
      "text/plain": [
       "['CryptoPunk #7755.jpg']"
      ]
     },
     "execution_count": 56,
     "metadata": {},
     "output_type": "execute_result"
    }
   ],
   "source": [
    "fail_lst"
   ]
  },
  {
   "cell_type": "code",
   "execution_count": null,
   "id": "spectacular-circle",
   "metadata": {},
   "outputs": [],
   "source": []
  }
 ],
 "metadata": {
  "kernelspec": {
   "display_name": "Python 3 (ipykernel)",
   "language": "python",
   "name": "python3"
  },
  "language_info": {
   "codemirror_mode": {
    "name": "ipython",
    "version": 3
   },
   "file_extension": ".py",
   "mimetype": "text/x-python",
   "name": "python",
   "nbconvert_exporter": "python",
   "pygments_lexer": "ipython3",
   "version": "3.9.7"
  }
 },
 "nbformat": 4,
 "nbformat_minor": 5
}
