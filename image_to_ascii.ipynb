{
 "cells": [
  {
   "cell_type": "code",
   "execution_count": 5,
   "id": "0dde30ac",
   "metadata": {},
   "outputs": [],
   "source": [
    "from PIL import Image\n",
    "\n",
    "width_adjust = 100\n",
    "ASCII_CHARS = [\" \", \".\", \"/\", \";\", \"1\", \"2\", \"&\", \"0\"]\n",
    "\n",
    "def resize(image, new_width = 100):\n",
    "    width, height = image.size\n",
    "    new_height = new_width * height / width\n",
    "    return image.resize((int(new_width), int(new_height)))\n",
    "\n",
    "def to_greyscale(image):\n",
    "    return image.convert(\"L\")\n",
    "\n",
    "def pixel_to_ascii(image):\n",
    "    pixels = image.getdata()\n",
    "    ascii_str = \"\";\n",
    "    for pixel in pixels:\n",
    "        ascii_str += ASCII_CHARS[pixel//25];\n",
    "    return ascii_str\n",
    "\n",
    "def to_greyscale(image):\n",
    "    return image.convert(\"L\")\n",
    "\n",
    "def to_greyscale(image):\n",
    "    return image.convert(\"L\")\n",
    "\n",
    "def pixel_to_ascii(image):\n",
    "    pixels = image.getdata()\n",
    "    ascii_str = \"\";\n",
    "    for pixel in pixels:\n",
    "        ascii_str += ASCII_CHARS[pixel//(255//8)];\n",
    "    return ascii_str\n",
    "\n",
    "def resize(image, new_width = width_adjust):\n",
    "    width, height = image.size\n",
    "    new_height = new_width * height / width * 0.5\n",
    "    return image.resize((int(new_width), int(new_height)))"
   ]
  },
  {
   "cell_type": "code",
   "execution_count": null,
   "id": "f0c73a82",
   "metadata": {},
   "outputs": [],
   "source": [
    "path = input(\"Enter the path to the image fiel : \\n\")\n",
    "try:\n",
    "    image = Image.open(path)\n",
    "except:\n",
    "    print(path, \"Unable to find image \")\n",
    "#resize image\n",
    "image = resize(image)\n",
    "#convert image to greyscale image\n",
    "greyscale_image = to_greyscale(image)\n",
    "# convert greyscale image to ascii characters\n",
    "ascii_str = pixel_to_ascii(greyscale_image)\n",
    "img_width = greyscale_image.width\n",
    "ascii_str_len = len(ascii_str)\n",
    "ascii_img=\"\"\n",
    "#Split the string based on width  of the image\n",
    "for i in range(0, ascii_str_len, img_width):\n",
    "    ascii_img += ascii_str[i:i+img_width] + \"\\n\"\n",
    "#save the string to a file\n",
    "print(ascii_img)\n",
    "with open(\"ascii_image.txt\", \"w\") as f:\n",
    "    f.write(ascii_img);\n"
   ]
  }
 ],
 "metadata": {
  "kernelspec": {
   "display_name": "Python 3 (ipykernel)",
   "language": "python",
   "name": "python3"
  },
  "language_info": {
   "codemirror_mode": {
    "name": "ipython",
    "version": 3
   },
   "file_extension": ".py",
   "mimetype": "text/x-python",
   "name": "python",
   "nbconvert_exporter": "python",
   "pygments_lexer": "ipython3",
   "version": "3.9.7"
  }
 },
 "nbformat": 4,
 "nbformat_minor": 5
}
