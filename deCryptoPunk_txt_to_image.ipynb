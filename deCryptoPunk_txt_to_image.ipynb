{
 "cells": [
  {
   "cell_type": "code",
   "execution_count": 22,
   "id": "67e7c203",
   "metadata": {},
   "outputs": [],
   "source": [
    "import pyautogui as py\n",
    "import time\n",
    "import cv2\n",
    "import os"
   ]
  },
  {
   "cell_type": "code",
   "execution_count": 23,
   "id": "e71bff12",
   "metadata": {},
   "outputs": [
    {
     "name": "stdout",
     "output_type": "stream",
     "text": [
      "['file_0-999', 'file_1000-1999', 'file_2000-2999', 'file_3000-3999', 'file_4000-4999', 'file_5000-5999', 'file_6000-6999', 'file_7000-7999', 'file_8000-8999', 'file_9000-9999']\n"
     ]
    }
   ],
   "source": [
    "folders = os.listdir('/Users/jinsungpark/Desktop/crypto_final')\n",
    "folders.remove('.DS_Store')\n",
    "folders.sort()\n",
    "print(folders)"
   ]
  },
  {
   "cell_type": "code",
   "execution_count": 27,
   "id": "1760a669",
   "metadata": {},
   "outputs": [
    {
     "name": "stdout",
     "output_type": "stream",
     "text": [
      "percentage   0                      25                      50                        75                      100\n",
      "converting   ||||||||||||||||||||||||||||||||||||||||||||||||||||||||||||||||||||||||||||||||||||||||||||||||||||"
     ]
    }
   ],
   "source": [
    "idx = 9 # (0 ~ 9)\n",
    "out_path = \"/Users/jinsungpark/Desktop/crypto_ascii/{}\".format(folders[idx])\n",
    "in_path = \"/Users/jinsungpark/Desktop/crypto_final/{}\".format(folders[idx])\n",
    "\n",
    "file = os.listdir(out_path)\n",
    "if '.DS_Store' in file:\n",
    "    file.remove('.DS_Store')\n",
    "file.sort()\n",
    "\n",
    "py.click(334, 667)\n",
    "py.moveTo(1000, 1000)\n",
    "py.press('space')  \n",
    "print(\"percentage   0                      25                      50                        75                      100\")\n",
    "print(\"converting   \", end='')\n",
    "for i in range(len(file)):\n",
    "    if i == 0:\n",
    "        time.sleep(1) \n",
    "    time.sleep(0.3) \n",
    "    img = py.screenshot('img.png', region=(16*2, 72*2, 1344, 1311))\n",
    "    img.save(in_path + \"/DeCryptoPunk #{}.png\".format(i+idx*1000), 'png')   \n",
    "#     print(\"{}/{} {:.2f}% {}: DeCryptoPunk #{}.png\".format(i,len(file),\n",
    "#                                                           i/len(file)*100,folders[idx],\n",
    "#                                                           i+idx*1000))\n",
    "    py.press('down')\n",
    "    if i%10 == 0:\n",
    "        print(\"|\", end='')\n",
    "py.press('space')  "
   ]
  },
  {
   "cell_type": "code",
   "execution_count": null,
   "id": "aed7a81d",
   "metadata": {},
   "outputs": [],
   "source": []
  },
  {
   "cell_type": "code",
   "execution_count": null,
   "id": "517b6abf",
   "metadata": {},
   "outputs": [],
   "source": []
  },
  {
   "cell_type": "code",
   "execution_count": null,
   "id": "4e295da3",
   "metadata": {},
   "outputs": [],
   "source": []
  },
  {
   "cell_type": "code",
   "execution_count": null,
   "id": "e67018d8",
   "metadata": {},
   "outputs": [],
   "source": [
    "# import os\n",
    "# def createFolder(directory):\n",
    "#     try:\n",
    "#         if not os.path.exists(directory):\n",
    "#             os.makedirs(directory)\n",
    "#     except OSError:\n",
    "#         print ('Error: Creating directory. ' +  directory)"
   ]
  },
  {
   "cell_type": "code",
   "execution_count": null,
   "id": "ac63acfa",
   "metadata": {},
   "outputs": [],
   "source": [
    "# createFolder(\"/Users/jinsungpark/Desktop/crypto_final/file_0-999\")\n",
    "# createFolder(\"/Users/jinsungpark/Desktop/crypto_final/file_1000-1999\")\n",
    "# createFolder(\"/Users/jinsungpark/Desktop/crypto_final/file_2000-2999\")\n",
    "# createFolder(\"/Users/jinsungpark/Desktop/crypto_final/file_3000-3999\")\n",
    "# createFolder(\"/Users/jinsungpark/Desktop/crypto_final/file_4000-4999\")\n",
    "# createFolder(\"/Users/jinsungpark/Desktop/crypto_final/file_5000-5999\")\n",
    "# createFolder(\"/Users/jinsungpark/Desktop/crypto_final/file_6000-6999\")\n",
    "# createFolder(\"/Users/jinsungpark/Desktop/crypto_final/file_7000-7999\")\n",
    "# createFolder(\"/Users/jinsungpark/Desktop/crypto_final/file_8000-8999\")\n",
    "# createFolder(\"/Users/jinsungpark/Desktop/crypto_final/file_9000-9999\")"
   ]
  },
  {
   "cell_type": "code",
   "execution_count": null,
   "id": "95f0d8de",
   "metadata": {},
   "outputs": [],
   "source": []
  }
 ],
 "metadata": {
  "kernelspec": {
   "display_name": "Python 3 (ipykernel)",
   "language": "python",
   "name": "python3"
  },
  "language_info": {
   "codemirror_mode": {
    "name": "ipython",
    "version": 3
   },
   "file_extension": ".py",
   "mimetype": "text/x-python",
   "name": "python",
   "nbconvert_exporter": "python",
   "pygments_lexer": "ipython3",
   "version": "3.9.7"
  }
 },
 "nbformat": 4,
 "nbformat_minor": 5
}
